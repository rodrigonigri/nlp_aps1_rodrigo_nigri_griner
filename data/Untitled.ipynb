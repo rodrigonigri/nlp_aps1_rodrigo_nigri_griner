{
 "cells": [
  {
   "cell_type": "code",
   "execution_count": 1,
   "id": "4a1e91f2-bdb9-48ed-8333-02ad03ecaa0a",
   "metadata": {
    "tags": []
   },
   "outputs": [],
   "source": [
    "import pandas as pd\n",
    "df = pd.read_csv('musicas.csv', delimiter='|')"
   ]
  },
  {
   "cell_type": "code",
   "execution_count": 2,
   "id": "0f4fe1a7-b3a8-4db2-88d1-1e20d4b4e1f3",
   "metadata": {
    "tags": []
   },
   "outputs": [
    {
     "data": {
      "text/html": [
       "<div>\n",
       "<style scoped>\n",
       "    .dataframe tbody tr th:only-of-type {\n",
       "        vertical-align: middle;\n",
       "    }\n",
       "\n",
       "    .dataframe tbody tr th {\n",
       "        vertical-align: top;\n",
       "    }\n",
       "\n",
       "    .dataframe thead th {\n",
       "        text-align: right;\n",
       "    }\n",
       "</style>\n",
       "<table border=\"1\" class=\"dataframe\">\n",
       "  <thead>\n",
       "    <tr style=\"text-align: right;\">\n",
       "      <th></th>\n",
       "      <th>Titulo-Artista</th>\n",
       "      <th>Letra</th>\n",
       "    </tr>\n",
       "  </thead>\n",
       "  <tbody>\n",
       "    <tr>\n",
       "      <th>0</th>\n",
       "      <td>Só Fé-Grelo</td>\n",
       "      <td>O Grelo não precisa de muito, não\\nSó peço a D...</td>\n",
       "    </tr>\n",
       "    <tr>\n",
       "      <th>1</th>\n",
       "      <td>Die With A Smile (feat. Bruno Mars)-Lady Gaga</td>\n",
       "      <td>Ooh\\nI I just woke up from a dream\\nWhere you ...</td>\n",
       "    </tr>\n",
       "    <tr>\n",
       "      <th>2</th>\n",
       "      <td>BIRDS OF A FEATHER-Billie Eilish</td>\n",
       "      <td>I want you to stay\\nTill I'm in the grave\\nTil...</td>\n",
       "    </tr>\n",
       "    <tr>\n",
       "      <th>3</th>\n",
       "      <td>Tu és + Águas Purificadoras (part. Débora Rabe...</td>\n",
       "      <td>Junto ao poço estava eu\\nQuando um homem judeu...</td>\n",
       "    </tr>\n",
       "    <tr>\n",
       "      <th>4</th>\n",
       "      <td>Too Sweet-Hozier</td>\n",
       "      <td>It can't be said I'm an early bird\\nIt's ten o...</td>\n",
       "    </tr>\n",
       "    <tr>\n",
       "      <th>...</th>\n",
       "      <td>...</td>\n",
       "      <td>...</td>\n",
       "    </tr>\n",
       "    <tr>\n",
       "      <th>995</th>\n",
       "      <td>Don't Stop Me Now-Queen</td>\n",
       "      <td>Tonight, I'm gonna have myself a real good tim...</td>\n",
       "    </tr>\n",
       "    <tr>\n",
       "      <th>996</th>\n",
       "      <td>Escreve Aí-Luan Santana</td>\n",
       "      <td>Te falo tanta coisa enquanto tento segurar a l...</td>\n",
       "    </tr>\n",
       "    <tr>\n",
       "      <th>997</th>\n",
       "      <td>Eye Of The Tiger-Survivor</td>\n",
       "      <td>Risin' up, back on the street\\nDid my time, to...</td>\n",
       "    </tr>\n",
       "    <tr>\n",
       "      <th>998</th>\n",
       "      <td>Olharei Para o Alto-Midian Lima</td>\n",
       "      <td>Mesmo na tribulação\\nPosso não ver Sua mão\\nMa...</td>\n",
       "    </tr>\n",
       "    <tr>\n",
       "      <th>999</th>\n",
       "      <td>Him &amp; I (feat. Halsey)-G-Eazy</td>\n",
       "      <td>Cross my heart, hope to die\\nTo my lover, I’d ...</td>\n",
       "    </tr>\n",
       "  </tbody>\n",
       "</table>\n",
       "<p>1000 rows × 2 columns</p>\n",
       "</div>"
      ],
      "text/plain": [
       "                                        Titulo-Artista  \\\n",
       "0                                          Só Fé-Grelo   \n",
       "1        Die With A Smile (feat. Bruno Mars)-Lady Gaga   \n",
       "2                     BIRDS OF A FEATHER-Billie Eilish   \n",
       "3    Tu és + Águas Purificadoras (part. Débora Rabe...   \n",
       "4                                     Too Sweet-Hozier   \n",
       "..                                                 ...   \n",
       "995                            Don't Stop Me Now-Queen   \n",
       "996                            Escreve Aí-Luan Santana   \n",
       "997                          Eye Of The Tiger-Survivor   \n",
       "998                    Olharei Para o Alto-Midian Lima   \n",
       "999                      Him & I (feat. Halsey)-G-Eazy   \n",
       "\n",
       "                                                 Letra  \n",
       "0    O Grelo não precisa de muito, não\\nSó peço a D...  \n",
       "1    Ooh\\nI I just woke up from a dream\\nWhere you ...  \n",
       "2    I want you to stay\\nTill I'm in the grave\\nTil...  \n",
       "3    Junto ao poço estava eu\\nQuando um homem judeu...  \n",
       "4    It can't be said I'm an early bird\\nIt's ten o...  \n",
       "..                                                 ...  \n",
       "995  Tonight, I'm gonna have myself a real good tim...  \n",
       "996  Te falo tanta coisa enquanto tento segurar a l...  \n",
       "997  Risin' up, back on the street\\nDid my time, to...  \n",
       "998  Mesmo na tribulação\\nPosso não ver Sua mão\\nMa...  \n",
       "999  Cross my heart, hope to die\\nTo my lover, I’d ...  \n",
       "\n",
       "[1000 rows x 2 columns]"
      ]
     },
     "execution_count": 2,
     "metadata": {},
     "output_type": "execute_result"
    }
   ],
   "source": [
    "df"
   ]
  },
  {
   "cell_type": "code",
   "execution_count": null,
   "id": "52d83418-fb64-4045-beb1-72ffb8f15200",
   "metadata": {},
   "outputs": [],
   "source": []
  }
 ],
 "metadata": {
  "kernelspec": {
   "display_name": "Python 3 (ipykernel)",
   "language": "python",
   "name": "python3"
  },
  "language_info": {
   "codemirror_mode": {
    "name": "ipython",
    "version": 3
   },
   "file_extension": ".py",
   "mimetype": "text/x-python",
   "name": "python",
   "nbconvert_exporter": "python",
   "pygments_lexer": "ipython3",
   "version": "3.11.5"
  }
 },
 "nbformat": 4,
 "nbformat_minor": 5
}
